{
 "cells": [
  {
   "cell_type": "markdown",
   "metadata": {},
   "source": [
    "# GA Floor Heights\n",
    "\n",
    "Wagga Wagga Data ingestion example\n"
   ]
  },
  {
   "cell_type": "markdown",
   "metadata": {},
   "source": [
    "## Database setup\n",
    "\n",
    "- Deploy the docker services and migrate postgres to the latest revision of the data model."
   ]
  },
  {
   "cell_type": "code",
   "execution_count": null,
   "metadata": {
    "vscode": {
     "languageId": "shellscript"
    }
   },
   "outputs": [],
   "source": [
    "# Deploy the docker services\n",
    "!docker compose up -d\n",
    "\n",
    "# Migrate to latest revision of data model\n",
    "!docker compose run --rm app alembic upgrade head"
   ]
  },
  {
   "cell_type": "markdown",
   "metadata": {
    "vscode": {
     "languageId": "shellscript"
    }
   },
   "source": [
    "## Database ingestions\n",
    "\n",
    "- Run scripts to ingest local data, this will take a couple of minutes."
   ]
  },
  {
   "cell_type": "code",
   "execution_count": null,
   "metadata": {
    "vscode": {
     "languageId": "shellscript"
    }
   },
   "outputs": [],
   "source": [
    "# Wagga Wagga data ingestion\n",
    "\n",
    "# File path to root data directory\n",
    "DATA_ROOT=\"/home/lng/dev/ga-floor-height-data-model/data/\"\n",
    "\n",
    "# Set up file paths\n",
    "ADDRESS=DATA_ROOT+\"national_address_points/wagga_address_points.gdb/\"\n",
    "BUILDINGS=DATA_ROOT+\"overture/2024-10-23_australia_buildings.parquet\"\n",
    "DEM=DATA_ROOT+\"Wagga DEM/NSW_2020_DEM_1m.vrt\"\n",
    "CADASTRE=DATA_ROOT+\"cadastre/nsw/Wagga_Lot_EPSG7844.gdb\"\n",
    "ZONING=DATA_ROOT+\"zoning/nsw/wagga_land_zoning.gpkg\"\n",
    "NEXIS=DATA_ROOT+\"nexis_building_data/NSW_building.csv\"\n",
    "VALIDATION=DATA_ROOT+\"Wagga Exposure Data/Final_Wagga.UFI/Final_Wagga_floor_heights.gpkg\"\n",
    "OUTPUT=DATA_ROOT+\"wagga_wagga.gpkg\"\n",
    "\n",
    "# Ingest the address points\n",
    "!fh-cli ingest-address-points -i \"{ADDRESS}\"\n",
    "\n",
    "# Ingest the building footprints, split by cadastre, and remove small buildings\n",
    "!fh-cli ingest-buildings -i \"{BUILDINGS}\" -d \"{DEM}\" --split-by-cadastre \"{CADASTRE}\" --remove-small --join-land-zoning \"{ZONING}\" --land-zoning-field \"LAY_CLASS\"\n",
    "\n",
    "# Join address points to building footprints, joining the largest building on each lot to an address point\n",
    "!fh-cli join-address-buildings -c \"{CADASTRE}\" --join-largest-building\n",
    "\n",
    "# Ingest NEXIS method floor measures, joining the largest building on each lot to a NEXIS point\n",
    "!fh-cli ingest-nexis-measures -i \"{NEXIS}\" -c \"{CADASTRE}\" --join-largest-building\n",
    "\n",
    "# Ingest Validation method floor measures, joining the largest building on each lot to a Validation point\n",
    "!fh-cli ingest-validation-measures -i \"{VALIDATION}\" --ffh-field \"floor_height_m\" -c \"{CADASTRE}\" --join-largest-building\n",
    "\n",
    "# Export a geopackage of the data model\n",
    "!fh-cli export-ogr-file -o \"{OUTPUT}\""
   ]
  },
  {
   "cell_type": "markdown",
   "metadata": {
    "vscode": {
     "languageId": "shellscript"
    }
   },
   "source": [
    "## Stop and clear database\n",
    "\n",
    "- Stop the docker containers and remove the docker volume to clear the data.\n",
    "- Comment the top line of cell below to run."
   ]
  },
  {
   "cell_type": "code",
   "execution_count": null,
   "metadata": {
    "vscode": {
     "languageId": "shellscript"
    }
   },
   "outputs": [],
   "source": [
    "%%script echo skipping cell  # Comment this line to run this cell\n",
    "\n",
    "# Stop all containers, removing the postgres_data volume\n",
    "!docker compose down\n",
    "!docker volume rm ga-floor-height-data-model_postgres_data"
   ]
  }
 ],
 "metadata": {
  "kernelspec": {
   "display_name": "ga-floor-heights",
   "language": "python",
   "name": "python3"
  },
  "language_info": {
   "codemirror_mode": {
    "name": "ipython",
    "version": 3
   },
   "file_extension": ".py",
   "mimetype": "text/x-python",
   "name": "python",
   "nbconvert_exporter": "python",
   "pygments_lexer": "ipython3",
   "version": "3.10.16"
  }
 },
 "nbformat": 4,
 "nbformat_minor": 2
}
