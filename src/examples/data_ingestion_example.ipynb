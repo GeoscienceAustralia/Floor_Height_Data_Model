{
 "cells": [
  {
   "cell_type": "markdown",
   "metadata": {},
   "source": [
    "# Residential Floor Heights\n",
    "\n",
    "Data ingestion example.\n"
   ]
  },
  {
   "cell_type": "markdown",
   "metadata": {},
   "source": [
    "## Database setup\n",
    "\n",
    "- Deploy the docker services and migrate postgres to the latest revision of the data model."
   ]
  },
  {
   "cell_type": "code",
   "execution_count": null,
   "metadata": {
    "vscode": {
     "languageId": "shellscript"
    }
   },
   "outputs": [],
   "source": [
    "# Deploy the docker services\n",
    "!docker compose up -d\n",
    "\n",
    "# Migrate to latest revision of data model\n",
    "!docker compose run --rm app alembic upgrade head"
   ]
  },
  {
   "cell_type": "markdown",
   "metadata": {
    "vscode": {
     "languageId": "shellscript"
    }
   },
   "source": [
    "## Database ingestions\n",
    "\n",
    "- Run scripts to ingest local data, this will take a couple of minutes."
   ]
  },
  {
   "cell_type": "code",
   "execution_count": 64,
   "metadata": {
    "vscode": {
     "languageId": "shellscript"
    }
   },
   "outputs": [
    {
     "name": "stdout",
     "output_type": "stream",
     "text": [
      "Loading Geodatabase...\n",
      "Copying to PostgreSQL...\n",
      "Address ingestion complete\n",
      "Loading DEM...\n",
      "Creating mask...\n",
      "Loading building GeoParquet...\n",
      "Splitting buildings by cadastre...\n",
      "Removing buildings < 30.0 m^2...\n",
      "Removed 11807 buildings...\n",
      "Sampling DEM with buildings...\n",
      "Copying to PostgreSQL...\n",
      "Removing overlapping buildings...\n",
      "Removed 54 overlapping buildings...\n",
      "Building ingestion complete\n",
      "Performing join by knn...\n",
      "Loading cadastre...\n",
      "Copying cadastre to PostgreSQL...\n",
      "Performing join with cadastre...\n",
      "Joining with largest building on lot...\n",
      "Joining complete\n",
      "Loading NEXIS points...\n",
      "Clipping NEXIS points to cadastre...\n",
      "Copying NEXIS points to PostgreSQL...\n",
      "Inserting GNAF records into floor_measure table...\n",
      "Inserting non-GNAF records into floor_measure table...\n",
      "Copying cadastre to PostgreSQL...\n",
      "Joining with largest building on lot...\n",
      "NEXIS ingestion complete\n",
      "Loading validation points...\n",
      "Copying validation points to PostgreSQL...\n",
      "Copying cadastre to PostgreSQL...\n",
      "Inserting records into floor_measure table...\n",
      "Joining with largest building on lot...\n",
      "Validation ingestion complete\n",
      "Writing OGR file: wagga_wagga.gpkg\n",
      "Export complete\n"
     ]
    }
   ],
   "source": [
    "# Wagga Wagga data ingestion\n",
    "\n",
    "# File path to sharepoint project directory\n",
    "SHAREPOINT=\"/home/lng/sharepoint/Projects - Documents/Projects - Data Analytics/127 Residential Dwelling Floor Height/4 Executing\"\n",
    "\n",
    "# Set up file paths\n",
    "ADDRESS=SHAREPOINT+\"/Data Exploration/national_address_points/wagga_address_points.gdb/\"\n",
    "BUILDINGS=SHAREPOINT+\"/Data Exploration/overture/overture_buildings_australia.parquet\"\n",
    "DEM=SHAREPOINT+\"/Data Exploration/Wagga DEM/NSW_2020_DEM_1m.vrt\"\n",
    "CADASTRE=SHAREPOINT+\"/Data Exploration/nsw_cadastre/Wagga_Lot_EPSG7844.gdb\"\n",
    "NEXIS=SHAREPOINT+\"/GA_data_documentation/nexis_building_data/NSW_building.csv\"\n",
    "VALIDATION=SHAREPOINT+\"/GA_data_documentation/Wagga Exposure Data/Final_Wagga.UFI/Final_Wagga_floor_heights.gpkg\"\n",
    "OUTPUT=\"wagga_wagga.gpkg\"\n",
    "\n",
    "# Ingest the address points\n",
    "!python ../floorheights/datamodel/cli.py ingest-address-points -i \"{ADDRESS}\"\n",
    "\n",
    "# Ingest the building footprints\n",
    "!python ../floorheights/datamodel/cli.py ingest-buildings -i \"{BUILDINGS}\" -d \"{DEM}\" --split-by-cadastre \"{CADASTRE}\" --remove-overlapping --remove-small\n",
    "\n",
    "# Join address points to building footprints\n",
    "!python ../floorheights/datamodel/cli.py join-address-buildings -c \"{CADASTRE}\" --join-largest-building\n",
    "\n",
    "# Ingest NEXIS method floor measures\n",
    "!python ../floorheights/datamodel/cli.py ingest-nexis-method -i \"{NEXIS}\" -c \"{CADASTRE}\" --join-largest-building --clip-to-cadastre\n",
    "\n",
    "# Ingest Validation method floor measures\n",
    "!python ../floorheights/datamodel/cli.py ingest-validation-method -i \"{VALIDATION}\" --ffh-field \"floor_height_m\" -c \"{CADASTRE}\" --join-largest-building\n",
    "\n",
    "# Export a geopackage of the data model\n",
    "!python ../floorheights/datamodel/cli.py export-ogr-file -o \"{OUTPUT}\"\n"
   ]
  },
  {
   "cell_type": "markdown",
   "metadata": {
    "vscode": {
     "languageId": "shellscript"
    }
   },
   "source": [
    "## Stop and clear database\n",
    "\n",
    "- Stop the docker containers and remove the docker volume to clear the data.\n",
    "- Comment the top line of cell below to run."
   ]
  },
  {
   "cell_type": "code",
   "execution_count": null,
   "metadata": {
    "vscode": {
     "languageId": "shellscript"
    }
   },
   "outputs": [],
   "source": [
    "%%script echo skipping cell  # Comment this line to run this cell\n",
    "\n",
    "# Stop all containers, removing the postgres_data volume\n",
    "!docker compose down\n",
    "!docker volume rm ga-floor-height-data-model_postgres_data"
   ]
  }
 ],
 "metadata": {
  "kernelspec": {
   "display_name": "ga-floor-heights",
   "language": "python",
   "name": "python3"
  },
  "language_info": {
   "codemirror_mode": {
    "name": "ipython",
    "version": 3
   },
   "file_extension": ".py",
   "mimetype": "text/x-python",
   "name": "python",
   "nbconvert_exporter": "python",
   "pygments_lexer": "ipython3",
   "version": "3.10.16"
  }
 },
 "nbformat": 4,
 "nbformat_minor": 2
}
