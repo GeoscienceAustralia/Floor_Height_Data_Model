{
 "cells": [
  {
   "cell_type": "markdown",
   "metadata": {},
   "source": [
    "# Floor Heights Data Ingestion Example\n",
    "\n",
    "Shell scripts that invoke the `fh-cli` CLI application to ingest data into the data model for each area of interest.\n",
    "\n",
    "This notebook can be run with the Python environment that has the `floorheights` package installed. You will also need to install the `ipykernel` package.\n"
   ]
  },
  {
   "cell_type": "markdown",
   "metadata": {},
   "source": [
    "## Database setup\n",
    "\n",
    "- Deploy the docker services and migrate postgres to the latest revision of the data model.\n"
   ]
  },
  {
   "cell_type": "code",
   "execution_count": null,
   "metadata": {
    "vscode": {
     "languageId": "shellscript"
    }
   },
   "outputs": [],
   "source": [
    "# Deploy the docker services\n",
    "!docker compose up -d\n",
    "\n",
    "# Migrate to latest revision of data model\n",
    "!docker compose run --rm app alembic upgrade head"
   ]
  },
  {
   "cell_type": "markdown",
   "metadata": {
    "vscode": {
     "languageId": "shellscript"
    }
   },
   "source": [
    "## Database ingestions\n",
    "\n",
    "- Run shell scripts to ingest local data, this will take a few minutes.\n",
    "- Make sure to update the `DATA_ROOT` variable to point to the root of the data directory.\n"
   ]
  },
  {
   "cell_type": "code",
   "execution_count": null,
   "metadata": {
    "vscode": {
     "languageId": "shellscript"
    }
   },
   "outputs": [],
   "source": [
    "# File path to root data directory (update this!)\n",
    "DATA_ROOT=\"/home/lng/dev/ga-floor-height-data-model/data/ffh_data/\""
   ]
  },
  {
   "cell_type": "code",
   "execution_count": null,
   "metadata": {
    "vscode": {
     "languageId": "shellscript"
    }
   },
   "outputs": [
    {
     "name": "stdout",
     "output_type": "stream",
     "text": [
      "\u001b[1mIngesting address points\u001b[0m\n",
      "Loading address points...\n",
      "Generating UUIDs...\n",
      "Copying to PostgreSQL...\n",
      "Address ingestion complete\n",
      "\u001b[1mIngesting building footprints\u001b[0m\n",
      "Loading DEM...\n",
      "Creating mask...\n",
      "Loading building footprints...\n",
      "Splitting buildings by cadastre...\n",
      "Removing buildings < 30.0 m^2...\n",
      "Removed 11807 buildings...\n",
      "Joining land zoning attribute...\n",
      "Sampling DEM with buildings...\n",
      "Generating UUIDs...\n",
      "Copying to PostgreSQL...\n",
      "Building ingestion complete\n",
      "\u001b[1mJoining addresses to buildings\u001b[0m\n",
      "Loading cadastre...\n",
      "Copying cadastre to PostgreSQL...\n",
      "Performing join for building centroid addresses...\n",
      "Performing join for property centroid addresses...\n",
      "Joining complete\n",
      "\u001b[1mIngesting NEXIS measures\u001b[0m\n",
      "Loading NEXIS points...\n",
      "Copying NEXIS points to PostgreSQL...\n",
      "Inserting GNAF records into floor_measure table...\n",
      "Inserting non-GNAF records into floor_measure table...\n",
      "Copying cadastre to PostgreSQL...\n",
      "Joining with largest building on parcel...\n",
      "NEXIS ingestion complete\n",
      "\u001b[1mIngesting Validation measures\u001b[0m\n",
      "Loading validation points...\n",
      "Copying validation points to PostgreSQL...\n",
      "Copying cadastre to PostgreSQL...\n",
      "Inserting surveyed & step counted measures into floor_measure table...\n",
      "Joining by intersection...\n",
      "Joining by cadastre...\n",
      "Joining with largest building on parcel...\n",
      "Validation ingestion complete\n",
      "\u001b[1mIngesting Validation measures\u001b[0m\n",
      "Loading validation points...\n",
      "Copying validation points to PostgreSQL...\n",
      "Copying cadastre to PostgreSQL...\n",
      "Inserting validation measures into floor_measure table...\n",
      "Joining by intersection...\n",
      "Joining by cadastre...\n",
      "Joining with largest building on parcel...\n",
      "Validation ingestion complete\n"
     ]
    }
   ],
   "source": [
    "# Wagga Wagga ingestion\n",
    "\n",
    "# Set up file paths for Wagga Wagga data\n",
    "ADDRESS=DATA_ROOT+\"national_address_points/wagga/wagga_address_points.gdb/\"\n",
    "BUILDINGS=DATA_ROOT+\"buildings/aus/overture/2024-10-23_australia_buildings.parquet\"\n",
    "DEM=DATA_ROOT+\"dem/wagga/NSW_2020_DEM_1m.vrt\"\n",
    "CADASTRE=DATA_ROOT+\"cadastre/wagga/Wagga_Lot_EPSG7844.gdb\"\n",
    "ZONING=DATA_ROOT+\"zoning/wagga/wagga_land_zoning.gpkg\"\n",
    "NEXIS=DATA_ROOT+\"nexis/NSW_building.csv\"\n",
    "COUNCIL_VALIDATION=DATA_ROOT+\"council_validation/wagga/Final_Wagga_floor_heights.gpkg\"\n",
    "FSI_VALIDATION=DATA_ROOT+\"fsi_validation/wagga_validation_centroid.gpkg\"\n",
    "\n",
    "# Ingest the address points\n",
    "!fh-cli ingest-address-points -i {ADDRESS}\n",
    "\n",
    "# # Ingest the building footprints, split by cadastre, and remove small buildings\n",
    "!fh-cli ingest-buildings -i {BUILDINGS} -d {DEM} --split-by-cadastre {CADASTRE} --remove-small --join-land-zoning {ZONING} --land-zoning-field \"LAY_CLASS\"\n",
    "\n",
    "# Join address points to building footprints\n",
    "!fh-cli join-address-buildings -c {CADASTRE}\n",
    "\n",
    "# Ingest NEXIS method floor measures, joining the largest building on each lot to a NEXIS point\n",
    "!fh-cli ingest-nexis-measures -i {NEXIS} -c {CADASTRE} --join-largest-building\n",
    "\n",
    "# Ingest Council Validation method surveyed and step counted floor measures, joining the largest building on each lot to a Validation point\n",
    "!fh-cli ingest-validation-measures -i {COUNCIL_VALIDATION} --ffh-field \"floor_height_m\" -c {CADASTRE} --join-largest-building  --step-size 0.28 --dataset-name \"Council Validation\" --dataset-desc \"Surveyed and step count measures provided by Wagga City Council\" --dataset-src \"Wagga Wagga City Council\"\n",
    "\n",
    "# Ingest FrontierSI Validation floor measures, joining the largest building on each lot to a Validation point\n",
    "!fh-cli ingest-validation-measures -i {FSI_VALIDATION} --ffh-field \"floor_height_m\" -c {CADASTRE} --join-largest-building --method-name \"LIDAR-derived\" --dataset-name \"FrontierSI Validation\" --dataset-src \"FrontierSI\""
   ]
  },
  {
   "cell_type": "code",
   "execution_count": null,
   "metadata": {
    "vscode": {
     "languageId": "shellscript"
    }
   },
   "outputs": [
    {
     "name": "stdout",
     "output_type": "stream",
     "text": [
      "\u001b[1mIngesting address points\u001b[0m\n",
      "Loading address points...\n",
      "Generating UUIDs...\n",
      "Copying to PostgreSQL...\n",
      "Address ingestion complete\n",
      "\u001b[1mIngesting building footprints\u001b[0m\n",
      "Loading DEM...\n",
      "Creating mask...\n",
      "Loading building footprints...\n",
      "Splitting buildings by cadastre...\n",
      "Removing buildings < 30.0 m^2...\n",
      "Removed 6657 buildings...\n",
      "Joining land zoning attribute...\n",
      "Sampling DEM with buildings...\n",
      "Generating UUIDs...\n",
      "Copying to PostgreSQL...\n",
      "Building ingestion complete\n",
      "\u001b[1mJoining addresses to buildings\u001b[0m\n",
      "Loading cadastre...\n",
      "Copying cadastre to PostgreSQL...\n",
      "Performing join for building centroid addresses...\n",
      "Performing join for property centroid addresses...\n",
      "Joining complete\n",
      "\u001b[1mIngesting NEXIS measures\u001b[0m\n",
      "Loading NEXIS points...\n",
      "Copying NEXIS points to PostgreSQL...\n",
      "Inserting GNAF records into floor_measure table...\n",
      "Inserting non-GNAF records into floor_measure table...\n",
      "Copying cadastre to PostgreSQL...\n",
      "Joining with largest building on parcel...\n",
      "NEXIS ingestion complete\n",
      "\u001b[1mIngesting Validation measures\u001b[0m\n",
      "Loading validation points...\n",
      "Copying validation points to PostgreSQL...\n",
      "Copying cadastre to PostgreSQL...\n",
      "Flattening cadastre geometries...\n",
      "Inserting surveyed & step counted measures into floor_measure table...\n",
      "Joining by intersection...\n",
      "Joining by cadastre...\n",
      "Joining with largest building on parcel...\n",
      "Validation ingestion complete\n",
      "\u001b[1mIngesting Validation measures\u001b[0m\n",
      "Loading validation points...\n",
      "Copying validation points to PostgreSQL...\n",
      "Copying cadastre to PostgreSQL...\n",
      "Inserting validation measures into floor_measure table...\n",
      "Joining by intersection...\n",
      "Joining by cadastre...\n",
      "Joining with largest building on parcel...\n",
      "Validation ingestion complete\n"
     ]
    }
   ],
   "source": [
    "# Launceston ingestion\n",
    "\n",
    "# Set up file paths for Launceston data\n",
    "ADDRESS=DATA_ROOT+\"national_address_points/launceston/launceston_address_points.gdb/\"\n",
    "BUILDINGS=DATA_ROOT+\"buildings/launceston/list_building_footprints_merged.gpkg\"\n",
    "DEM=DATA_ROOT+\"dem/launceston/1m_DEM.vrt\"\n",
    "CADASTRE=DATA_ROOT+\"cadastre/launceston/launceston_parcels_merged.gpkg\"\n",
    "ZONING=DATA_ROOT+\"zoning/launceston/Tasmanian_Planning_Scheme_Zones_statewide.shp\"\n",
    "NEXIS=DATA_ROOT+\"nexis/TAS_building.csv\"\n",
    "COUNCIL_VALIDATION=DATA_ROOT+\"council_validation/launceston/LC_Final/LC_Final.shp\"\n",
    "FSI_VALIDATION=DATA_ROOT+\"fsi_validation/launceston_validation_centroid.gpkg\"\n",
    "\n",
    "# Ingest the address points\n",
    "!fh-cli ingest-address-points -i {ADDRESS}\n",
    "\n",
    "# Ingest the building footprints, split by cadastre, and remove small buildings\n",
    "!fh-cli ingest-buildings -i {BUILDINGS} -d {DEM} --split-by-cadastre {CADASTRE} --remove-small --join-land-zoning {ZONING} --land-zoning-field \"ZONE\"\n",
    "\n",
    "# Join address points to building footprints\n",
    "!fh-cli join-address-buildings -c {CADASTRE}\n",
    "\n",
    "# Ingest NEXIS method floor measures, joining the largest building on each lot to a NEXIS point\n",
    "!fh-cli ingest-nexis-measures -i {NEXIS} -c {CADASTRE} --join-largest-building\n",
    "\n",
    "# Ingest Council Validation method surveyed and step counted floor measures, joining the largest building on each lot to a Validation point\n",
    "!fh-cli ingest-validation-measures -i {COUNCIL_VALIDATION} --ffh-field \"LCC_FLOOR\" -c {CADASTRE} --join-largest-building --step-size 0.28 --flatten-cadastre --dataset-name \"Council Validation\" --dataset-desc \"Surveyed and step count measures provided by Launceston City Council\" --dataset-src \"Launceston City Council\"\n",
    "\n",
    "# Ingest FrontierSI Validation floor measures, joining the largest building on each lot to a Validation point\n",
    "!fh-cli ingest-validation-measures -i {FSI_VALIDATION} --ffh-field \"floor_height_m\" -c {CADASTRE} --join-largest-building --method-name \"LIDAR-derived\" --dataset-name \"FrontierSI Validation\" --dataset-src \"FrontierSI\""
   ]
  },
  {
   "cell_type": "code",
   "execution_count": 4,
   "metadata": {
    "vscode": {
     "languageId": "shellscript"
    }
   },
   "outputs": [
    {
     "name": "stdout",
     "output_type": "stream",
     "text": [
      "\u001b[1mIngesting address points\u001b[0m\n",
      "Loading address points...\n",
      "Generating UUIDs...\n",
      "Copying to PostgreSQL...\n",
      "Address ingestion complete\n",
      "\u001b[1mIngesting building footprints\u001b[0m\n",
      "Loading DEM...\n",
      "Creating mask...\n",
      "Loading building footprints...\n",
      "Splitting buildings by cadastre...\n",
      "Removing buildings < 30.0 m^2...\n",
      "Removed 731 buildings...\n",
      "Joining land zoning attribute...\n",
      "Sampling DEM with buildings...\n",
      "/home/lng/dev/ga-floor-height-data-model/src/floorheights/datamodel/etl.py:242: RuntimeWarning: All-NaN slice encountered\n",
      "  min_height = np.nanmin(out_img)\n",
      "/home/lng/dev/ga-floor-height-data-model/src/floorheights/datamodel/etl.py:243: RuntimeWarning: All-NaN slice encountered\n",
      "  max_height = np.nanmax(out_img)\n",
      "/home/lng/dev/ga-floor-height-data-model/src/floorheights/datamodel/etl.py:242: RuntimeWarning: All-NaN slice encountered\n",
      "  min_height = np.nanmin(out_img)\n",
      "/home/lng/dev/ga-floor-height-data-model/src/floorheights/datamodel/etl.py:243: RuntimeWarning: All-NaN slice encountered\n",
      "  max_height = np.nanmax(out_img)\n",
      "/home/lng/dev/ga-floor-height-data-model/src/floorheights/datamodel/etl.py:242: RuntimeWarning: All-NaN slice encountered\n",
      "  min_height = np.nanmin(out_img)\n",
      "/home/lng/dev/ga-floor-height-data-model/src/floorheights/datamodel/etl.py:243: RuntimeWarning: All-NaN slice encountered\n",
      "  max_height = np.nanmax(out_img)\n",
      "/home/lng/dev/ga-floor-height-data-model/src/floorheights/datamodel/etl.py:242: RuntimeWarning: All-NaN slice encountered\n",
      "  min_height = np.nanmin(out_img)\n",
      "/home/lng/dev/ga-floor-height-data-model/src/floorheights/datamodel/etl.py:243: RuntimeWarning: All-NaN slice encountered\n",
      "  max_height = np.nanmax(out_img)\n",
      "/home/lng/dev/ga-floor-height-data-model/src/floorheights/datamodel/etl.py:242: RuntimeWarning: All-NaN slice encountered\n",
      "  min_height = np.nanmin(out_img)\n",
      "/home/lng/dev/ga-floor-height-data-model/src/floorheights/datamodel/etl.py:243: RuntimeWarning: All-NaN slice encountered\n",
      "  max_height = np.nanmax(out_img)\n",
      "/home/lng/dev/ga-floor-height-data-model/src/floorheights/datamodel/etl.py:242: RuntimeWarning: All-NaN slice encountered\n",
      "  min_height = np.nanmin(out_img)\n",
      "/home/lng/dev/ga-floor-height-data-model/src/floorheights/datamodel/etl.py:243: RuntimeWarning: All-NaN slice encountered\n",
      "  max_height = np.nanmax(out_img)\n",
      "/home/lng/dev/ga-floor-height-data-model/src/floorheights/datamodel/etl.py:242: RuntimeWarning: All-NaN slice encountered\n",
      "  min_height = np.nanmin(out_img)\n",
      "/home/lng/dev/ga-floor-height-data-model/src/floorheights/datamodel/etl.py:243: RuntimeWarning: All-NaN slice encountered\n",
      "  max_height = np.nanmax(out_img)\n",
      "/home/lng/dev/ga-floor-height-data-model/src/floorheights/datamodel/etl.py:242: RuntimeWarning: All-NaN slice encountered\n",
      "  min_height = np.nanmin(out_img)\n",
      "/home/lng/dev/ga-floor-height-data-model/src/floorheights/datamodel/etl.py:243: RuntimeWarning: All-NaN slice encountered\n",
      "  max_height = np.nanmax(out_img)\n",
      "/home/lng/dev/ga-floor-height-data-model/src/floorheights/datamodel/etl.py:242: RuntimeWarning: All-NaN slice encountered\n",
      "  min_height = np.nanmin(out_img)\n",
      "/home/lng/dev/ga-floor-height-data-model/src/floorheights/datamodel/etl.py:243: RuntimeWarning: All-NaN slice encountered\n",
      "  max_height = np.nanmax(out_img)\n",
      "/home/lng/dev/ga-floor-height-data-model/src/floorheights/datamodel/etl.py:242: RuntimeWarning: All-NaN slice encountered\n",
      "  min_height = np.nanmin(out_img)\n",
      "/home/lng/dev/ga-floor-height-data-model/src/floorheights/datamodel/etl.py:243: RuntimeWarning: All-NaN slice encountered\n",
      "  max_height = np.nanmax(out_img)\n",
      "/home/lng/dev/ga-floor-height-data-model/src/floorheights/datamodel/etl.py:242: RuntimeWarning: All-NaN slice encountered\n",
      "  min_height = np.nanmin(out_img)\n",
      "/home/lng/dev/ga-floor-height-data-model/src/floorheights/datamodel/etl.py:243: RuntimeWarning: All-NaN slice encountered\n",
      "  max_height = np.nanmax(out_img)\n",
      "/home/lng/dev/ga-floor-height-data-model/src/floorheights/datamodel/etl.py:242: RuntimeWarning: All-NaN slice encountered\n",
      "  min_height = np.nanmin(out_img)\n",
      "/home/lng/dev/ga-floor-height-data-model/src/floorheights/datamodel/etl.py:243: RuntimeWarning: All-NaN slice encountered\n",
      "  max_height = np.nanmax(out_img)\n",
      "/home/lng/dev/ga-floor-height-data-model/src/floorheights/datamodel/etl.py:242: RuntimeWarning: All-NaN slice encountered\n",
      "  min_height = np.nanmin(out_img)\n",
      "/home/lng/dev/ga-floor-height-data-model/src/floorheights/datamodel/etl.py:243: RuntimeWarning: All-NaN slice encountered\n",
      "  max_height = np.nanmax(out_img)\n",
      "/home/lng/dev/ga-floor-height-data-model/src/floorheights/datamodel/etl.py:242: RuntimeWarning: All-NaN slice encountered\n",
      "  min_height = np.nanmin(out_img)\n",
      "/home/lng/dev/ga-floor-height-data-model/src/floorheights/datamodel/etl.py:243: RuntimeWarning: All-NaN slice encountered\n",
      "  max_height = np.nanmax(out_img)\n",
      "/home/lng/dev/ga-floor-height-data-model/src/floorheights/datamodel/etl.py:242: RuntimeWarning: All-NaN slice encountered\n",
      "  min_height = np.nanmin(out_img)\n",
      "/home/lng/dev/ga-floor-height-data-model/src/floorheights/datamodel/etl.py:243: RuntimeWarning: All-NaN slice encountered\n",
      "  max_height = np.nanmax(out_img)\n",
      "Generating UUIDs...\n",
      "Copying to PostgreSQL...\n",
      "Building ingestion complete\n",
      "\u001b[1mJoining addresses to buildings\u001b[0m\n",
      "Loading cadastre...\n",
      "Copying cadastre to PostgreSQL...\n",
      "Performing join for building centroid addresses...\n",
      "Performing join for property centroid addresses...\n",
      "Joining complete\n",
      "\u001b[1mIngesting NEXIS measures\u001b[0m\n",
      "Loading NEXIS points...\n",
      "Copying NEXIS points to PostgreSQL...\n",
      "Inserting GNAF records into floor_measure table...\n",
      "Inserting non-GNAF records into floor_measure table...\n",
      "Copying cadastre to PostgreSQL...\n",
      "Joining with largest building on parcel...\n",
      "NEXIS ingestion complete\n",
      "\u001b[1mIngesting Validation measures\u001b[0m\n",
      "Loading validation points...\n",
      "Copying validation points to PostgreSQL...\n",
      "Copying cadastre to PostgreSQL...\n",
      "Inserting validation measures into floor_measure table...\n",
      "Joining by intersection...\n",
      "Joining by cadastre...\n",
      "Joining with largest building on parcel...\n",
      "Validation ingestion complete\n",
      "\u001b[1mIngesting Validation measures\u001b[0m\n",
      "Loading validation points...\n",
      "Copying validation points to PostgreSQL...\n",
      "Copying cadastre to PostgreSQL...\n",
      "Inserting validation measures into floor_measure table...\n",
      "Joining by intersection...\n",
      "Joining by cadastre...\n",
      "Joining with largest building on parcel...\n",
      "Validation ingestion complete\n"
     ]
    }
   ],
   "source": [
    "# Tweed Heads ingestion\n",
    "\n",
    "# Set up file paths for Wagga Wagga data\n",
    "ADDRESS=DATA_ROOT+\"national_address_points/tweed/tweed_heads_address_points.gdb/\"\n",
    "BUILDINGS=DATA_ROOT+\"buildings/aus/overture/2024-10-23_australia_buildings.parquet\"\n",
    "DEM=DATA_ROOT+\"dem/tweed/NSW_2013_DEM_1m.vrt\"\n",
    "CADASTRE=DATA_ROOT+\"cadastre/tweed/Tweed_Heads_Lot_EPSG7844.gdb\"\n",
    "ZONING=DATA_ROOT+\"zoning/tweed/tweed_heads_land_zoning.gpkg\"\n",
    "NEXIS=DATA_ROOT+\"nexis/NSW_building.csv\"\n",
    "COUNCIL_VALIDATION=DATA_ROOT+\"council_validation/tweed/BuildingFloorLevels_FloodStudyTweed/BuildingFloorLevels_FloodStudy_floor_heights.gpkg\"\n",
    "FSI_VALIDATION=DATA_ROOT+\"fsi_validation/tweed_validation_centroid.gpkg\"\n",
    "\n",
    "\n",
    "# Ingest the address points\n",
    "!fh-cli ingest-address-points -i {ADDRESS}\n",
    "\n",
    "# Ingest the building footprints, split by cadastre, and remove small buildings\n",
    "!fh-cli ingest-buildings -i {BUILDINGS} -d {DEM} --split-by-cadastre {CADASTRE} --remove-small --join-land-zoning {ZONING} --land-zoning-field \"LAY_CLASS\"\n",
    "\n",
    "# Join address points to building footprints\n",
    "!fh-cli join-address-buildings -c {CADASTRE}\n",
    "\n",
    "# Ingest NEXIS floor measures, joining the largest building on each lot to a NEXIS point\n",
    "!fh-cli ingest-nexis-measures -i {NEXIS} -c {CADASTRE} --join-largest-building\n",
    "\n",
    "# Ingest Council Validation surveyed floor measures, joining the largest building on each lot to a Validation point\n",
    "!fh-cli ingest-validation-measures -i {COUNCIL_VALIDATION} --ffh-field \"floor_height_m\" -c {CADASTRE} --join-largest-building --method-name \"Surveyed\" --dataset-name \"Council Validation\" --dataset-desc \"Surveyed measures provided by Tweed Shire Council\" --dataset-src \"Tweed Shire Council\"\n",
    "\n",
    "# Ingest FrontierSI Validation floor measures, joining the largest building on each lot to a Validation point\n",
    "!fh-cli ingest-validation-measures -i {FSI_VALIDATION} --ffh-field \"floor_height_m\" -c {CADASTRE} --join-largest-building --method-name \"LIDAR-derived\" --dataset-name \"FrontierSI Validation\" --dataset-src \"FrontierSI\""
   ]
  },
  {
   "cell_type": "code",
   "execution_count": null,
   "metadata": {
    "vscode": {
     "languageId": "shellscript"
    }
   },
   "outputs": [
    {
     "name": "stdout",
     "output_type": "stream",
     "text": [
      "\u001b[1mIngesting Main Methodology measures\u001b[0m\n",
      "Loading Floor Height parquet...\n",
      "Inserting records into floor_measure table...\n",
      "Main methodology ingestion complete\n",
      "\u001b[1mIngesting Gap Fill measures\u001b[0m\n",
      "Loading Floor Height parquet...\n",
      "Inserting records into floor_measure table...\n",
      "Gap Fill ingestion complete\n",
      "\u001b[1mIngesting Main Methodology images\u001b[0m\n",
      "Selecting records from floor_measure table...\n",
      "Ingesting panorama images...\n",
      "Ingesting lidar images...\n",
      "Image ingestion complete\n"
     ]
    }
   ],
   "source": [
    "# Ingest outputs from the processing workflow\n",
    "FH_PARQUET=DATA_ROOT+\"processing_output/all_aoi_ffh_v5_3a2a2ee6e864_s3.parquet\"\n",
    "PANO_PATH=DATA_ROOT+\"processing_output/pano_images/\"\n",
    "LIDAR_PATH=DATA_ROOT+\"processing_output/lidar_images/\"\n",
    "\n",
    "!fh-cli ingest-main-method-measures -i {FH_PARQUET}\n",
    "!fh-cli ingest-gap-fill-measures -i {FH_PARQUET}\n",
    "\n",
    "!fh-cli ingest-main-method-images --pano-path {PANO_PATH} --lidar-path {LIDAR_PATH} --chunksize 200"
   ]
  },
  {
   "cell_type": "markdown",
   "metadata": {
    "vscode": {
     "languageId": "shellscript"
    }
   },
   "source": [
    "## Stop and clear database\n",
    "\n",
    "- Stop the docker containers and remove the docker volume to clear the data base.\n",
    "- Comment the top line of cell below to run.\n"
   ]
  },
  {
   "cell_type": "code",
   "execution_count": null,
   "metadata": {
    "vscode": {
     "languageId": "shellscript"
    }
   },
   "outputs": [],
   "source": [
    "%%script echo skipping cell  # Comment this line to run this cell\n",
    "\n",
    "# Stop all containers, removing the postgres_data volume\n",
    "!docker compose down\n",
    "!docker volume rm ga-floor-height-data-model_postgres_data"
   ]
  }
 ],
 "metadata": {
  "kernelspec": {
   "display_name": "ga-floor-heights",
   "language": "python",
   "name": "python3"
  },
  "language_info": {
   "codemirror_mode": {
    "name": "ipython",
    "version": 3
   },
   "file_extension": ".py",
   "mimetype": "text/x-python",
   "name": "python",
   "nbconvert_exporter": "python",
   "pygments_lexer": "ipython3",
   "version": "3.10.16"
  }
 },
 "nbformat": 4,
 "nbformat_minor": 2
}
